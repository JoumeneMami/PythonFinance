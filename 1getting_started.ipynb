{
 "cells": [
  {
   "cell_type": "code",
   "execution_count": 2,
   "metadata": {},
   "outputs": [],
   "source": [
    "#1getting_started.py\n",
    "\n",
    "# 1. Syntax\n",
    "\n",
    "# 1.1 Insert the missing indentation to make the code correct:\n",
    "# HINT: https://www.w3schools.com/python/python_syntax.asp\n",
    "\n",
    "# TODO: update the code below\n",
    "if 4 ==2 :\n",
    "  print(\"Four is equal to two!\")"
   ]
  },
  {
   "cell_type": "code",
   "execution_count": 9,
   "metadata": {},
   "outputs": [
    {
     "name": "stdout",
     "output_type": "stream",
     "text": [
      "Apple\n"
     ]
    }
   ],
   "source": [
    "# 1.2 Variables\n",
    "# HINT: https://www.w3schools.com/python/python_variables.asp\n",
    "\n",
    "#1.2.1 Create a variable named fruit and assign the value Apple to it.\n",
    "# TODO: Write your code below\n",
    "fruit=\"Apple\"\n",
    "print(fruit)"
   ]
  },
  {
   "cell_type": "code",
   "execution_count": 4,
   "metadata": {},
   "outputs": [
    {
     "name": "stdout",
     "output_type": "stream",
     "text": [
      "30\n"
     ]
    }
   ],
   "source": [
    "# 1.2.2 Create a variable called z, assign x + y to it, and display the result.\n",
    "\n",
    "x = 10\n",
    "y= 20\n",
    "\n",
    "# TODO: Wrtie your code below\n",
    "\n",
    "z=x+y\n",
    "print(z)"
   ]
  },
  {
   "cell_type": "code",
   "execution_count": 5,
   "metadata": {},
   "outputs": [],
   "source": [
    "# 1.2.3 Remove the illegal characters in the variable name:\n",
    "\n",
    "# TODO: Update the code below\n",
    "city_name = \"London\""
   ]
  },
  {
   "cell_type": "code",
   "execution_count": 6,
   "metadata": {},
   "outputs": [],
   "source": [
    "# 1.2.4 Insert the correct keyword to make the variable x belong to the global scope.\n",
    "# HINT: https://www.w3schools.com/python/python_variables_global.asp\n",
    "\n",
    "# TODO: Update the code below\n",
    "def myfunc():\n",
    "  global x\n",
    "  x = \"fantastic\""
   ]
  },
  {
   "cell_type": "code",
   "execution_count": 7,
   "metadata": {},
   "outputs": [
    {
     "name": "stdout",
     "output_type": "stream",
     "text": [
      "a :  4\n",
      "b :  5\n"
     ]
    }
   ],
   "source": [
    "# 1.2.5 write a program that switches the values stored in variables a and b.\n",
    "\n",
    "a = 5\n",
    "b = 4\n",
    "\n",
    "# TODO: Write your code below\n",
    "temporary_a=a\n",
    "a=b\n",
    "b=temporary_a\n",
    "\n",
    "print('a : ',a)\n",
    "print('b : ',b)"
   ]
  },
  {
   "cell_type": "code",
   "execution_count": 13,
   "metadata": {},
   "outputs": [
    {
     "name": "stdout",
     "output_type": "stream",
     "text": [
      "9\n"
     ]
    }
   ],
   "source": [
    "# 1.3. Data Types\n",
    "# casting, numbers, booleans\n",
    "# HINT: https://www.w3schools.com/python/python_datatypes.asp\n",
    "\n",
    "# 1.3.1 Write a program that add the digits in a two digit number input.\n",
    "# eg. if the input is 45. The the output should be 4+5=9\n",
    "\n",
    "number= input()\n",
    "\n",
    "# TODO: Wrtie your code below\n",
    "d1=int(number[0])\n",
    "d2=int(number[1])\n",
    "sum_digits=d1+d2\n",
    "print(sum_digits)"
   ]
  }
 ],
 "metadata": {
  "kernelspec": {
   "display_name": "Python 3",
   "language": "python",
   "name": "python3"
  },
  "language_info": {
   "codemirror_mode": {
    "name": "ipython",
    "version": 3
   },
   "file_extension": ".py",
   "mimetype": "text/x-python",
   "name": "python",
   "nbconvert_exporter": "python",
   "pygments_lexer": "ipython3",
   "version": "3.11.9"
  }
 },
 "nbformat": 4,
 "nbformat_minor": 2
}
