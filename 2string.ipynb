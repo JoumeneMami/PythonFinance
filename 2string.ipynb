{
 "cells": [
  {
   "cell_type": "code",
   "execution_count": 1,
   "metadata": {},
   "outputs": [
    {
     "data": {
      "text/plain": [
       "15"
      ]
     },
     "execution_count": 1,
     "metadata": {},
     "output_type": "execute_result"
    }
   ],
   "source": [
    "\n",
    "#2string.py\n",
    "\n",
    "# 2.1 Strings\n",
    "# HINT: https://www.w3schools.com/python/python_strings.asp\n",
    "\n",
    "txt = \"Merry Christmas\"\n",
    "\n",
    "\n",
    "# 2.1.1 print the length of the string\n",
    "# TODO: Write your code below\n",
    "\n",
    "len(txt)"
   ]
  },
  {
   "cell_type": "code",
   "execution_count": 2,
   "metadata": {},
   "outputs": [
    {
     "name": "stdout",
     "output_type": "stream",
     "text": [
      "M\n"
     ]
    }
   ],
   "source": [
    "# 2.1.2 Print the first character of the string txt.\n",
    "# TODO: Write your code below\n",
    "\n",
    "print(txt[0])"
   ]
  },
  {
   "cell_type": "code",
   "execution_count": 3,
   "metadata": {},
   "outputs": [
    {
     "name": "stdout",
     "output_type": "stream",
     "text": [
      "err\n"
     ]
    }
   ],
   "source": [
    "# 2.1.3 Get the characters from index 1 to index 3 (err).\n",
    "# TODO: Write your code below\n",
    "\n",
    "print(txt[1:4])"
   ]
  },
  {
   "cell_type": "code",
   "execution_count": 4,
   "metadata": {},
   "outputs": [
    {
     "name": "stdout",
     "output_type": "stream",
     "text": [
      "MERRY CHRISTMAS\n"
     ]
    }
   ],
   "source": [
    "# 2.1.4 Convert the value of txt to upper case and print it.\n",
    "# TODO: Write your code below\n",
    "txt=txt.upper()\n",
    "print(txt)"
   ]
  },
  {
   "cell_type": "code",
   "execution_count": 5,
   "metadata": {},
   "outputs": [
    {
     "name": "stdout",
     "output_type": "stream",
     "text": [
      "merry christmas\n"
     ]
    }
   ],
   "source": [
    "\n",
    "# 2.1.5 Convert the value of txt to lower case and print it.\n",
    "# TODO: Write your code below\n",
    "txt=txt.lower()\n",
    "print(txt)"
   ]
  },
  {
   "cell_type": "code",
   "execution_count": 6,
   "metadata": {},
   "outputs": [
    {
     "name": "stdout",
     "output_type": "stream",
     "text": [
      "Hello World\n"
     ]
    }
   ],
   "source": [
    "# 2.1.6 Return the string without any whitespace at the beginning or the end.\n",
    "x = \" Hello World \"\n",
    "# TODO: Write your code below\n",
    "print(x.strip())"
   ]
  },
  {
   "cell_type": "code",
   "execution_count": 8,
   "metadata": {},
   "outputs": [
    {
     "name": "stdout",
     "output_type": "stream",
     "text": [
      "Jello\n"
     ]
    }
   ],
   "source": [
    "# 2.1.7 Replace the character H with a J and print the result\n",
    "y = \"Hello\"\n",
    "# TODO: Write your code below\n",
    "y=y.replace(\"H\",\"J\")\n",
    "print(y)"
   ]
  },
  {
   "cell_type": "code",
   "execution_count": 9,
   "metadata": {},
   "outputs": [
    {
     "name": "stdout",
     "output_type": "stream",
     "text": [
      "My name is John\n"
     ]
    }
   ],
   "source": [
    "# 2.1.8 Insert the correct syntax to add a placeholder for the name parameter.\n",
    "# TODO: Update the code below\n",
    "name = 'John'\n",
    "txt = \"My name is {}\"\n",
    "print(txt.format(name))\n"
   ]
  }
 ],
 "metadata": {
  "kernelspec": {
   "display_name": "Python 3",
   "language": "python",
   "name": "python3"
  },
  "language_info": {
   "codemirror_mode": {
    "name": "ipython",
    "version": 3
   },
   "file_extension": ".py",
   "mimetype": "text/x-python",
   "name": "python",
   "nbconvert_exporter": "python",
   "pygments_lexer": "ipython3",
   "version": "3.11.9"
  }
 },
 "nbformat": 4,
 "nbformat_minor": 2
}
