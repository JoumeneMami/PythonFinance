{
 "cells": [
  {
   "cell_type": "code",
   "execution_count": 2,
   "metadata": {},
   "outputs": [
    {
     "name": "stdout",
     "output_type": "stream",
     "text": [
      "No\n"
     ]
    }
   ],
   "source": [
    "# 5conditionals.py\n",
    "\n",
    "# 5.1 If ... else\n",
    "\n",
    "a = 20\n",
    "b = 40\n",
    "\n",
    "c=10\n",
    "d=40\n",
    "\n",
    "# 5.1.1 Print \"Yes\" if a is equal to b, otherwise print \"No\".\n",
    "# TODO: Write your code below\n",
    "if a==b:\n",
    "    print(\"Yes\")\n",
    "else:\n",
    "    print(\"No\")"
   ]
  },
  {
   "cell_type": "code",
   "execution_count": 3,
   "metadata": {},
   "outputs": [
    {
     "name": "stdout",
     "output_type": "stream",
     "text": [
      "3\n"
     ]
    }
   ],
   "source": [
    "\n",
    "# 5.1.2 Print \"1\" if a is equal to b, print \"2\" if a is greater than b, otherwise print \"3\".\n",
    "# TODO: Write your code below\n",
    "if a==b:\n",
    "    print(\"1\")\n",
    "elif a>b:\n",
    "    print(\"2\")\n",
    "else:\n",
    "    print(\"3\")"
   ]
  },
  {
   "cell_type": "code",
   "execution_count": null,
   "metadata": {},
   "outputs": [],
   "source": [
    "# 5.1.3 Print \"Hello\" if a is equal to b, and c is equal to d.\n",
    "# TODO: Write your code below\n",
    "\n",
    "if a==b and c==d:\n",
    "    print(\"Hello\")"
   ]
  },
  {
   "cell_type": "code",
   "execution_count": 4,
   "metadata": {},
   "outputs": [],
   "source": [
    "\n",
    "# 5.1.4 Print \"Hello\" if a is equal to b, or if c is equal to d.\n",
    "# TODO: Write your code below\n",
    "\n",
    "if a==b or c==d:\n",
    "    print(\"Hello\")"
   ]
  },
  {
   "cell_type": "code",
   "execution_count": 8,
   "metadata": {},
   "outputs": [
    {
     "name": "stdout",
     "output_type": "stream",
     "text": [
      "11 is odd.\n"
     ]
    }
   ],
   "source": [
    "\n",
    "# 5.2 Write a program that checks whether an input number is odd or even. Print whether the input number is odd or even\n",
    "# HINT:\n",
    "# even numbers can be divided by 2 with no remainder. when odd numbers are divided by 2 there is a remainder.\n",
    "# eg. 42 is even because 42/2 = 21 and has no remainder\n",
    "# eg. example, 33 is odd because 33/3 = 16.5 is not a whole number.\n",
    "# we can use the module operator (%) in python to get the remainder after a division.\n",
    "# eg. 5%2 = 1 since 5 divided by 2 has a remainder 1. So 5 is odd\n",
    "# eg. 6%2 = 0 since 6 divided by 2 has a remainder 0. So 6 is even.\n",
    "\n",
    "#number to check\n",
    "number = int(input('Enter a number'))\n",
    "\n",
    "# TODO: write your code below\n",
    "m=number%2\n",
    "if m==0:\n",
    "    print(f\"{number} is even.\")\n",
    "else:\n",
    "    print(f\"{number} is odd.\")"
   ]
  }
 ],
 "metadata": {
  "kernelspec": {
   "display_name": "Python 3",
   "language": "python",
   "name": "python3"
  },
  "language_info": {
   "codemirror_mode": {
    "name": "ipython",
    "version": 3
   },
   "file_extension": ".py",
   "mimetype": "text/x-python",
   "name": "python",
   "nbconvert_exporter": "python",
   "pygments_lexer": "ipython3",
   "version": "3.11.9"
  }
 },
 "nbformat": 4,
 "nbformat_minor": 2
}
