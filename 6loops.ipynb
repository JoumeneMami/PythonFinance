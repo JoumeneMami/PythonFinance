{
 "cells": [
  {
   "cell_type": "code",
   "execution_count": 1,
   "metadata": {},
   "outputs": [
    {
     "name": "stdout",
     "output_type": "stream",
     "text": [
      "kiwi\n",
      "banana\n",
      "cherry\n"
     ]
    }
   ],
   "source": [
    "# 6loops.py\n",
    "\n",
    "# 6.1 For Loops\n",
    "\n",
    "fruits = [\"kiwi\", \"banana\", \"cherry\"]\n",
    "\n",
    "# 6.1.1 Use a for loop to loop through the items in the fruits list and print each item.\n",
    "# TODO: Write your code below\n",
    "\n",
    "for x in fruits:\n",
    "    print(x)"
   ]
  },
  {
   "cell_type": "code",
   "execution_count": 2,
   "metadata": {},
   "outputs": [
    {
     "name": "stdout",
     "output_type": "stream",
     "text": [
      "kiwi\n",
      "cherry\n"
     ]
    }
   ],
   "source": [
    "\n",
    "# 6.1.2 In the for loop to loop through the items in the fruits list,  when the item value is \"banana\", jump directly to the next item.\n",
    "# TODO: Write your code below\n",
    "\n",
    "for x in fruits:\n",
    "    if x!= \"banana\":\n",
    "        print(x)"
   ]
  },
  {
   "cell_type": "code",
   "execution_count": 3,
   "metadata": {},
   "outputs": [
    {
     "name": "stdout",
     "output_type": "stream",
     "text": [
      "kiwi\n"
     ]
    }
   ],
   "source": [
    "\n",
    "# 6.1.3 In the for loop to loop through the items in the fruits list, exit the loop when the item is \"banana\".\n",
    "# TODO: Write your code below\n",
    "for x in fruits:\n",
    "    if x==\"banana\":\n",
    "        break\n",
    "    print(x)"
   ]
  },
  {
   "cell_type": "code",
   "execution_count": 5,
   "metadata": {},
   "outputs": [
    {
     "name": "stdout",
     "output_type": "stream",
     "text": [
      "0\n",
      "1\n",
      "2\n",
      "3\n",
      "4\n",
      "5\n"
     ]
    }
   ],
   "source": [
    "# 6.1.4 Using the Python range() function, create a sequence of numbers from 0 to 5, and print each item in the sequence in a new line:\n",
    "# HINT: https://www.w3schools.com/python/ref_func_range.asp\n",
    "# TODO: Write your code below\n",
    "\n",
    "x=range(0,6)\n",
    "for x in x:\n",
    "    print(x)\n",
    "\n"
   ]
  }
 ],
 "metadata": {
  "kernelspec": {
   "display_name": "Python 3",
   "language": "python",
   "name": "python3"
  },
  "language_info": {
   "codemirror_mode": {
    "name": "ipython",
    "version": 3
   },
   "file_extension": ".py",
   "mimetype": "text/x-python",
   "name": "python",
   "nbconvert_exporter": "python",
   "pygments_lexer": "ipython3",
   "version": "3.11.9"
  }
 },
 "nbformat": 4,
 "nbformat_minor": 2
}
