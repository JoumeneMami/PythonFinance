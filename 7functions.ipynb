{
 "cells": [
  {
   "cell_type": "code",
   "execution_count": 2,
   "metadata": {},
   "outputs": [
    {
     "name": "stdout",
     "output_type": "stream",
     "text": [
      "Hello World\n"
     ]
    }
   ],
   "source": [
    "# 7functions.py\n",
    "\n",
    "# 7.1 Functions\n",
    "\n",
    "# 7.1.1 Create a function named function1 that prints this string \"Hello World\"\n",
    "# TODO: Write your code below\n",
    "def function1():\n",
    "    print(\"Hello World\")"
   ]
  },
  {
   "cell_type": "code",
   "execution_count": 3,
   "metadata": {},
   "outputs": [
    {
     "name": "stdout",
     "output_type": "stream",
     "text": [
      "Hello World\n"
     ]
    }
   ],
   "source": [
    "# 7.1.2 Execute the functon function1\n",
    "# TODO: Write your code below\n",
    "\n",
    "function1()"
   ]
  },
  {
   "cell_type": "code",
   "execution_count": 7,
   "metadata": {},
   "outputs": [
    {
     "name": "stdout",
     "output_type": "stream",
     "text": [
      "14\n"
     ]
    }
   ],
   "source": [
    "\n",
    "# 7.1.3 Create a function named function2 that takes in one integer parameter number1. The function adds 5 to the input number1, and prints the result\n",
    "# TODO: Write your code below\n",
    "def function2(number1):\n",
    "    number1=number1+5\n",
    "    print(number1)\n",
    "\n",
    "function2(9)"
   ]
  },
  {
   "cell_type": "code",
   "execution_count": 10,
   "metadata": {},
   "outputs": [
    {
     "name": "stdout",
     "output_type": "stream",
     "text": [
      "first number is smaller\n"
     ]
    }
   ],
   "source": [
    "# 7.1.4 Create a function named compare_numbers() with two arguments. If the first argument is greater than the second, print \"first number is greater\".\n",
    "# If the second number is greater than the first, print \"first number is smaller\". Is the numbers are equal, print \"equal numbers\"\n",
    "# TODO: Write your code below\n",
    "\n",
    "def compare_numbers(n1,n2):\n",
    "    if n1>n2:\n",
    "        print(\"first number is greater\")\n",
    "    elif n1<n2:\n",
    "        print(\"first number is smaller\")\n",
    "    else:\n",
    "        print(\"equal numbers\")\n",
    "\n",
    "compare_numbers(5,7)\n"
   ]
  },
  {
   "cell_type": "code",
   "execution_count": 11,
   "metadata": {},
   "outputs": [],
   "source": [
    "# 7.2 Create a lambda function that takes one parameter (a) and returns it.\n",
    "# TODO: Write your code below\n",
    "\n",
    "lambda_function = lambda a: a"
   ]
  },
  {
   "cell_type": "code",
   "execution_count": 12,
   "metadata": {},
   "outputs": [
    {
     "data": {
      "text/plain": [
       "217"
      ]
     },
     "execution_count": 12,
     "metadata": {},
     "output_type": "execute_result"
    }
   ],
   "source": [
    "### 7.3 Python built-in functions : https://www.w3schools.com/python/python_ref_functions.asp\n",
    "\n",
    "nums = [11,33,14,2,58,65,34]\n",
    "\n",
    "# 7.3.1 Using Python's built in sum() function, print the sum of the numbers in the list nums\n",
    "# TODO: Write your code below\n",
    "\n",
    "sum(nums)"
   ]
  },
  {
   "cell_type": "code",
   "execution_count": 13,
   "metadata": {},
   "outputs": [
    {
     "data": {
      "text/plain": [
       "2"
      ]
     },
     "execution_count": 13,
     "metadata": {},
     "output_type": "execute_result"
    }
   ],
   "source": [
    "\n",
    "# 7.3.2 Using Python's built in min() function, print the minimum of the numbers in the list nums\n",
    "# TODO: Write your code below\n",
    "\n",
    "min(nums)"
   ]
  },
  {
   "cell_type": "code",
   "execution_count": 14,
   "metadata": {},
   "outputs": [
    {
     "data": {
      "text/plain": [
       "6"
      ]
     },
     "execution_count": 14,
     "metadata": {},
     "output_type": "execute_result"
    }
   ],
   "source": [
    "# 7.3.3 Using Python's built in abs() function, print the absolute value of -6.\n",
    "# TODO: Write your code below\n",
    "\n",
    "abs(-6)"
   ]
  },
  {
   "cell_type": "code",
   "execution_count": 15,
   "metadata": {},
   "outputs": [
    {
     "data": {
      "text/plain": [
       "4.68"
      ]
     },
     "execution_count": 15,
     "metadata": {},
     "output_type": "execute_result"
    }
   ],
   "source": [
    "# 7.3.4 Using Python's built in round() function, round the number 4.67888 to two decomal places.\n",
    "# TODO: Write your code below\n",
    "\n",
    "round(4.67888,2)"
   ]
  },
  {
   "cell_type": "code",
   "execution_count": null,
   "metadata": {},
   "outputs": [],
   "source": [
    "# 7.4 Python Modules\n",
    "# HINT: https://www.w3schools.com/python/python_modules.asp\n",
    "# HINT: https://realpython.com/python-modules-packages/\n",
    "# HINT: https://docs.python.org/3/tutorial/modules.html\n",
    "\n",
    "\n",
    "# 7.4.1 Create a python module mod.\n",
    "# In mod.py, create a function psum(number1, number2) that takes two arguments and prints the sum of them. Assume the input arguments to be numbers.\n",
    "# In mod.py, create a function pmultiply(number1, number2) that takes two arguments and prints the product of them. Assume the input arguments to be numbers.\n",
    "\n",
    "\n",
    "# 7.4.2 Create python file main.py and import the module mod.\n",
    "# In main.py run the psum() and pmultiply() functions from the module mod using any two numbers.\n",
    "\n",
    "\n",
    "# 7.4.3 In main.py, also import Python's built in module platform. Then list the functions and variables in the platform module using the dir() function.\n"
   ]
  }
 ],
 "metadata": {
  "kernelspec": {
   "display_name": "Python 3",
   "language": "python",
   "name": "python3"
  },
  "language_info": {
   "codemirror_mode": {
    "name": "ipython",
    "version": 3
   },
   "file_extension": ".py",
   "mimetype": "text/x-python",
   "name": "python",
   "nbconvert_exporter": "python",
   "pygments_lexer": "ipython3",
   "version": "3.11.9"
  }
 },
 "nbformat": 4,
 "nbformat_minor": 2
}
