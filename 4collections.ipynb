{
 "cells": [
  {
   "cell_type": "code",
   "execution_count": 1,
   "metadata": {},
   "outputs": [
    {
     "name": "stdout",
     "output_type": "stream",
     "text": [
      "pineapple\n"
     ]
    }
   ],
   "source": [
    "#4collections.py\n",
    "\n",
    "# 4.1 PYTHON Lists\n",
    "\n",
    "fruits = [\"kiwi\", \"pineapple\", \"apple\"]\n",
    "\n",
    "# 4.1.1 Print the second item in the fruits list.\n",
    "# TODO: Write your code below\n",
    "\n",
    "print(fruits[1])"
   ]
  },
  {
   "cell_type": "code",
   "execution_count": 2,
   "metadata": {},
   "outputs": [
    {
     "name": "stdout",
     "output_type": "stream",
     "text": [
      "['orange', 'pineapple', 'apple']\n"
     ]
    }
   ],
   "source": [
    "\n",
    "\n",
    "# 4.1.2 Change the value from \"kiwi\" to \"orange\", in the fruits list.\n",
    "# TODO: Write your code below\n",
    "\n",
    "fruits[0]=\"orange\"\n",
    "print(fruits)"
   ]
  },
  {
   "cell_type": "code",
   "execution_count": 3,
   "metadata": {},
   "outputs": [
    {
     "name": "stdout",
     "output_type": "stream",
     "text": [
      "['orange', 'lemon', 'pineapple', 'apple']\n"
     ]
    }
   ],
   "source": [
    "\n",
    "# 4.1.3 Use the insert method to add \"lemon\" as the second item in the fruits list.\n",
    "# TODO: Write your code below\n",
    "\n",
    "fruits.insert(1, \"lemon\")\n",
    "print(fruits)"
   ]
  },
  {
   "cell_type": "code",
   "execution_count": 4,
   "metadata": {},
   "outputs": [
    {
     "name": "stdout",
     "output_type": "stream",
     "text": [
      "['orange', 'lemon', 'apple']\n"
     ]
    }
   ],
   "source": [
    "# 4.1.4 Use the remove method to remove \"pineapple\" from the fruits list.\n",
    "# TODO: Write your code below\n",
    "\n",
    "fruits.remove(\"pineapple\")\n",
    "print(fruits)"
   ]
  },
  {
   "cell_type": "code",
   "execution_count": 5,
   "metadata": {},
   "outputs": [
    {
     "name": "stdout",
     "output_type": "stream",
     "text": [
      "apple\n"
     ]
    }
   ],
   "source": [
    "# 4.1.5 Use negative indexing to print the last item in the list.\n",
    "# TODO: Write your code below\n",
    "\n",
    "print(fruits[-1])"
   ]
  },
  {
   "cell_type": "code",
   "execution_count": 8,
   "metadata": {},
   "outputs": [
    {
     "name": "stdout",
     "output_type": "stream",
     "text": [
      "['cherry', 'orange', 'kiwi']\n"
     ]
    }
   ],
   "source": [
    "\n",
    "# 4.1.6 Use a range of indexes to print the third, fourth, and fifth item in the list fruits2.\n",
    "\n",
    "fruits2 = [\"apple\", \"banana\", \"cherry\", \"orange\", \"kiwi\", \"melon\", \"mango\"]\n",
    "# TODO: Write your code below\n",
    "\n",
    "print(fruits2[2:5])"
   ]
  },
  {
   "cell_type": "code",
   "execution_count": 9,
   "metadata": {},
   "outputs": [
    {
     "name": "stdout",
     "output_type": "stream",
     "text": [
      "3\n"
     ]
    }
   ],
   "source": [
    "# 4.1.7 Use the correct syntax to print the number of items in the list fruits\n",
    "# TODO: Write your code below\n",
    "\n",
    "print(len(fruits))"
   ]
  },
  {
   "cell_type": "code",
   "execution_count": 10,
   "metadata": {},
   "outputs": [
    {
     "name": "stdout",
     "output_type": "stream",
     "text": [
      "62.42857142857143\n"
     ]
    }
   ],
   "source": [
    "\n",
    "# 4.1.8  Write a program that calculates and prints the average of numbers in a list scores.\n",
    "# you are not allowed to use the sum() or len() functions.\n",
    "\n",
    "scores = [50, 55, 56, 70, 80, 60, 66]\n",
    "\n",
    "# TODO: Write your code below\n",
    "s=0\n",
    "n=0\n",
    "for x in scores:\n",
    "    s=s+x\n",
    "    n=n+1\n",
    "average=s/n\n",
    "print(average)"
   ]
  },
  {
   "cell_type": "code",
   "execution_count": 12,
   "metadata": {},
   "outputs": [
    {
     "name": "stdout",
     "output_type": "stream",
     "text": [
      "80\n"
     ]
    }
   ],
   "source": [
    "# 4.1.9 Write a program that calculates the largest number in a list scores\n",
    "# you are not allowed to use the max or min functions.\n",
    "scores = [50, 55, 56, 70, 80, 60, 66]\n",
    "\n",
    "# TODO: Write your code below\n",
    "\n",
    "maximum=0\n",
    "for x in scores:\n",
    "    if x>maximum:\n",
    "        maximum=x\n",
    "print(maximum)"
   ]
  },
  {
   "cell_type": "code",
   "execution_count": 13,
   "metadata": {},
   "outputs": [
    {
     "name": "stdout",
     "output_type": "stream",
     "text": [
      "Clio\n"
     ]
    }
   ],
   "source": [
    "# 4.2. PYTHON Dictionaries\n",
    "\n",
    "car =\t{\n",
    "  \"brand\": \"Renault\",\n",
    "  \"model\": \"Clio\",\n",
    "  \"year\": 2018\n",
    "}\n",
    "\n",
    "# 4.2.1 Use the get method to print the value of the \"model\" key of the car dictionary.\n",
    "# TODO: Write your code below\n",
    "\n",
    "print(car.get(\"model\"))"
   ]
  },
  {
   "cell_type": "code",
   "execution_count": 14,
   "metadata": {},
   "outputs": [
    {
     "name": "stdout",
     "output_type": "stream",
     "text": [
      "2020\n"
     ]
    }
   ],
   "source": [
    "# 4.2.2 Change the \"year\" value from 2018 to 2020 in the car dictionary.\n",
    "# TODO: Write your code below\n",
    "\n",
    "car[\"year\"] = 2020\n",
    "print(car.get(\"year\"))\n",
    "\n"
   ]
  },
  {
   "cell_type": "code",
   "execution_count": 16,
   "metadata": {},
   "outputs": [
    {
     "name": "stdout",
     "output_type": "stream",
     "text": [
      "{'brand': 'Renault', 'model': 'Clio', 'year': 2020, 'color': 'blue'}\n"
     ]
    }
   ],
   "source": [
    "# 4.2.3 TODO: Add the key/value pair \"color\" : \"blue\" to the car dictionary.\n",
    "# TODO: Write your code below\n",
    "\n",
    "car[\"color\"] = \"blue\"\n",
    "print(car)"
   ]
  },
  {
   "cell_type": "code",
   "execution_count": 17,
   "metadata": {},
   "outputs": [
    {
     "name": "stdout",
     "output_type": "stream",
     "text": [
      "{'brand': 'Renault', 'year': 2020, 'color': 'blue'}\n"
     ]
    }
   ],
   "source": [
    "# 4.2.4 Use the pop method to remove \"model\" from the car dictionary.\n",
    "# TODO: Write your code below\n",
    "\n",
    "car.pop(\"model\")\n",
    "print(car)"
   ]
  },
  {
   "cell_type": "code",
   "execution_count": 19,
   "metadata": {},
   "outputs": [
    {
     "name": "stdout",
     "output_type": "stream",
     "text": [
      "{}\n"
     ]
    }
   ],
   "source": [
    "# 4.2.5 Use the clear method to empty the car dictionary.\n",
    "# TODO: Write your code below\n",
    "car.clear()\n",
    "print(car)\n"
   ]
  }
 ],
 "metadata": {
  "kernelspec": {
   "display_name": "Python 3",
   "language": "python",
   "name": "python3"
  },
  "language_info": {
   "codemirror_mode": {
    "name": "ipython",
    "version": 3
   },
   "file_extension": ".py",
   "mimetype": "text/x-python",
   "name": "python",
   "nbconvert_exporter": "python",
   "pygments_lexer": "ipython3",
   "version": "3.11.9"
  }
 },
 "nbformat": 4,
 "nbformat_minor": 2
}
