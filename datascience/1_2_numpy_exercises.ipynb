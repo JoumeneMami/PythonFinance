{
  "nbformat": 4,
  "nbformat_minor": 0,
  "metadata": {
    "colab": {
      "provenance": [],
      "collapsed_sections": [
        "ySFKr0WrN_tX"
      ]
    },
    "kernelspec": {
      "name": "python3",
      "display_name": "Python 3"
    },
    "language_info": {
      "name": "python"
    }
  },
  "cells": [
    {
      "cell_type": "code",
      "execution_count": null,
      "metadata": {
        "id": "kXg03e5oIZsv"
      },
      "outputs": [],
      "source": []
    },
    {
      "cell_type": "markdown",
      "source": [
        "# **NumPy**\n",
        "https://www.w3schools.com/python/numpy/default.asp"
      ],
      "metadata": {
        "id": "vzgnGEfuJJic"
      }
    },
    {
      "cell_type": "markdown",
      "source": [],
      "metadata": {
        "id": "y5hlUhrhJBCc"
      }
    },
    {
      "cell_type": "code",
      "source": [
        "#install numpy\n",
        "#!pip install numpy"
      ],
      "metadata": {
        "id": "bfwEygi-Jcmz"
      },
      "execution_count": 1,
      "outputs": []
    },
    {
      "cell_type": "code",
      "source": [
        "# 1.1 import numpy under the alias np\n",
        "import numpy as np\n"
      ],
      "metadata": {
        "id": "qQta7uwbJWCL"
      },
      "execution_count": 2,
      "outputs": []
    },
    {
      "cell_type": "code",
      "source": [
        "# 1.2 print the version of numpy\n"
      ],
      "metadata": {
        "colab": {
          "base_uri": "https://localhost:8080/"
        },
        "id": "WjkoKFnrJ3ku",
        "outputId": "a07e7421-2daf-4610-ebd7-2dade9c7341f"
      },
      "execution_count": null,
      "outputs": [
        {
          "output_type": "stream",
          "name": "stdout",
          "text": [
            "1.26.4\n"
          ]
        }
      ]
    },
    {
      "cell_type": "markdown",
      "source": [
        "# **2. Creating a numpy array**"
      ],
      "metadata": {
        "id": "bFpx2HWnN28k"
      }
    },
    {
      "cell_type": "code",
      "source": [
        "#2.1 create a numpy array using the array() function with these elements [10,8,14,20,50,70]\n",
        "arr = np.array([10,8,14,20,50,70])\n",
        "\n",
        "#2.2 print the array arr\n",
        "\n",
        "\n",
        "#2.3 print the type of arr\n"
      ],
      "metadata": {
        "id": "0ye7i75TKUgC"
      },
      "execution_count": null,
      "outputs": []
    },
    {
      "cell_type": "code",
      "source": [
        "# 2.4 check number of dimensions of array arr : ndim\n"
      ],
      "metadata": {
        "colab": {
          "base_uri": "https://localhost:8080/"
        },
        "id": "7pTdUgjrMr0y",
        "outputId": "cfc8726f-a55e-4b75-9add-57adc5beff7d"
      },
      "execution_count": null,
      "outputs": [
        {
          "output_type": "stream",
          "name": "stdout",
          "text": [
            "3\n"
          ]
        }
      ]
    },
    {
      "cell_type": "code",
      "source": [
        "# shape of an array: number of elements in each dimension\n",
        "\n",
        "# 2-D array\n",
        "arr2 = np.array([[1, 2, 3, 4], [5, 6, 7, 8]])\n",
        "\n",
        "# 2.5 print the shpe of the array\n"
      ],
      "metadata": {
        "colab": {
          "base_uri": "https://localhost:8080/"
        },
        "id": "dmsN_lEoTlis",
        "outputId": "f31f3b7b-6869-4ca7-dc4a-e372d59a2be5"
      },
      "execution_count": null,
      "outputs": [
        {
          "output_type": "stream",
          "name": "stdout",
          "text": [
            "(2, 4)\n"
          ]
        }
      ]
    },
    {
      "cell_type": "markdown",
      "source": [
        "# **3. Access array elements using array indexing**\n"
      ],
      "metadata": {
        "id": "ySFKr0WrN_tX"
      }
    },
    {
      "cell_type": "code",
      "source": [
        "# get the first element of an array\n",
        "arr = np.array([1, 2, 3, 4])\n",
        "print(arr[0])"
      ],
      "metadata": {
        "colab": {
          "base_uri": "https://localhost:8080/"
        },
        "id": "F3NMfl2JNZma",
        "outputId": "e11dec47-d1e8-4b07-8a82-a8987a3f02e8"
      },
      "execution_count": null,
      "outputs": [
        {
          "output_type": "stream",
          "name": "stdout",
          "text": [
            "1\n"
          ]
        }
      ]
    },
    {
      "cell_type": "code",
      "source": [
        "# get the second element of an array\n",
        "arr = np.array([1, 2, 3, 4])\n",
        "print(arr[1])"
      ],
      "metadata": {
        "colab": {
          "base_uri": "https://localhost:8080/"
        },
        "id": "pRdGKBihOnqI",
        "outputId": "a356554f-2044-4d0f-dd83-46b410a94cbb"
      },
      "execution_count": null,
      "outputs": [
        {
          "output_type": "stream",
          "name": "stdout",
          "text": [
            "2\n"
          ]
        }
      ]
    },
    {
      "cell_type": "code",
      "source": [
        "# get the third and fourth element of an array\n",
        "arr = np.array([1, 2, 3, 4])\n",
        "print(arr[2]+arr[3])"
      ],
      "metadata": {
        "colab": {
          "base_uri": "https://localhost:8080/"
        },
        "id": "8vvJ_QZ9OrbU",
        "outputId": "b9cfad71-4f39-4a61-82a5-17fb35717cad"
      },
      "execution_count": null,
      "outputs": [
        {
          "output_type": "stream",
          "name": "stdout",
          "text": [
            "7\n"
          ]
        }
      ]
    },
    {
      "cell_type": "code",
      "source": [
        "# Access 2-D arrays : use comma separated integers representing the dimension and the index of the element.\n",
        "arr = np.array([[1,2,3,4,5], [6,7,8,9,10]])\n",
        "print('2nd element on 1st row: ', arr[0, 1])"
      ],
      "metadata": {
        "colab": {
          "base_uri": "https://localhost:8080/"
        },
        "id": "gkv5z7pZPB-v",
        "outputId": "13f8c312-b330-42fa-a515-ae5e6af69e58"
      },
      "execution_count": null,
      "outputs": [
        {
          "output_type": "stream",
          "name": "stdout",
          "text": [
            "2nd element on 1st row:  2\n"
          ]
        }
      ]
    },
    {
      "cell_type": "code",
      "source": [
        "# Access 3-D arrays : use comma separated integers representing the dimensions and the index of the element.\n",
        "arr = np.array([[[1, 2, 3], [4, 5, 6]], [[7, 8, 9], [10, 11, 12]]])\n",
        "print(arr[0, 1, 2])"
      ],
      "metadata": {
        "colab": {
          "base_uri": "https://localhost:8080/"
        },
        "id": "KW7lgszIPeEU",
        "outputId": "14a2296f-0bdb-4a1b-a31a-9bfc22079f8d"
      },
      "execution_count": null,
      "outputs": [
        {
          "output_type": "stream",
          "name": "stdout",
          "text": [
            "6\n"
          ]
        }
      ]
    },
    {
      "cell_type": "markdown",
      "source": [],
      "metadata": {
        "id": "p1Gm-ur9O_zR"
      }
    },
    {
      "cell_type": "code",
      "source": [
        "#negative indexing : Use negative indexing to access an array from the end.\n",
        "arr = np.array([[1,2,3,4,5], [6,7,8,9,10]])\n",
        "print('Last element from 2nd dim: ', arr[1, -1])"
      ],
      "metadata": {
        "colab": {
          "base_uri": "https://localhost:8080/"
        },
        "id": "bEuJW5_YP_jc",
        "outputId": "827ac99b-46d8-434b-e6b1-cc90c8bdfd4f"
      },
      "execution_count": null,
      "outputs": [
        {
          "output_type": "stream",
          "name": "stdout",
          "text": [
            "Last element from 2nd dim:  10\n"
          ]
        }
      ]
    },
    {
      "cell_type": "markdown",
      "source": [
        "# **Numpy array slicing**"
      ],
      "metadata": {
        "id": "FAQ8ez-oQNzY"
      }
    },
    {
      "cell_type": "markdown",
      "source": [
        "taking elements from one given index to another given index. we pass the slice instead of the index: [start:end]\n",
        "or [start:end:step]"
      ],
      "metadata": {
        "id": "oZr0WFOdRUEr"
      }
    },
    {
      "cell_type": "code",
      "source": [
        "arr = np.array([10,8,14,20,50,70])\n",
        "\n",
        "# 3.1 Slice from index 2 to index 5\n"
      ],
      "metadata": {
        "id": "7QwHnAVXQR0X"
      },
      "execution_count": null,
      "outputs": []
    },
    {
      "cell_type": "code",
      "source": [
        "# 3.2 Slice elements from index 3 to the end of the array:\n"
      ],
      "metadata": {
        "id": "Ye-ohGy0SAUx"
      },
      "execution_count": null,
      "outputs": []
    },
    {
      "cell_type": "code",
      "source": [
        "# 3.3 Slice from beginning to index 3 (not included):\n"
      ],
      "metadata": {
        "colab": {
          "base_uri": "https://localhost:8080/"
        },
        "id": "LEucdPELSLvE",
        "outputId": "42b3879d-003a-42ca-95f0-b8255965a27a"
      },
      "execution_count": null,
      "outputs": [
        {
          "output_type": "stream",
          "name": "stdout",
          "text": [
            "[1 2 3 4 5]\n"
          ]
        }
      ]
    },
    {
      "cell_type": "code",
      "source": [
        "# 3.4 Negative slicing : index 4 from the end to index 1 from the end\n"
      ],
      "metadata": {
        "colab": {
          "base_uri": "https://localhost:8080/"
        },
        "id": "JcehqEJiTCYE",
        "outputId": "3c0af3ec-c284-4500-dbcb-9bb6360b64f3"
      },
      "execution_count": null,
      "outputs": [
        {
          "output_type": "stream",
          "name": "stdout",
          "text": [
            "[5 6]\n"
          ]
        }
      ]
    }
  ]
}